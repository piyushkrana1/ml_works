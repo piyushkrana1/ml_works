{
 "cells": [
  {
   "cell_type": "markdown",
   "id": "improving-pepper",
   "metadata": {
    "id": "improving-pepper"
   },
   "source": [
    "# Assignment 1 - Question 3\n",
    "The objective of this assignment is to get you familiarize with  the  problem  of  `Linear Regression`.\n",
    "\n",
    "## Instructions\n",
    "- Write your code and analysis in the indicated cells.\n",
    "- Ensure that this notebook runs without errors when the cells are run in sequence.\n",
    "- Do not attempt to change the contents of other cells.\n",
    "- No inbuilt functions to be used until specified.\n",
    "\n",
    "## Submission\n",
    "- Ensure that this notebook runs without errors when the cells are run in sequence.\n",
    "- Rename the notebook to `<roll_number>_A1_Q3.ipynb`."
   ]
  },
  {
   "cell_type": "markdown",
   "id": "final-transaction",
   "metadata": {
    "id": "final-transaction"
   },
   "source": [
    "## 1.3.0 Background about the dataset\n",
    "\n",
    "TLDR: You have 25 independent variables (`x1, x2, x3, ... , x25`) type: `float` for each data point. You can use a linear combination of these 25 independent variables to predict the y (dependent variable) of each data point."
   ]
  },
  {
   "cell_type": "code",
   "execution_count": 1,
   "id": "lyric-olympus",
   "metadata": {
    "id": "lyric-olympus"
   },
   "outputs": [],
   "source": [
    "import csv\n",
    "import random\n",
    "import numpy as np\n",
    "import matplotlib.pyplot as plt\n",
    "from IPython.display import Markdown, display\n",
    "def printmd(string):\n",
    "    display(Markdown(string))"
   ]
  },
  {
   "cell_type": "code",
   "execution_count": 2,
   "id": "hundred-receipt",
   "metadata": {
    "id": "hundred-receipt"
   },
   "outputs": [],
   "source": [
    "train_data = list()\n",
    "with open('train_q3.csv', 'r') as infile:\n",
    "    input_rows = csv.DictReader(infile)\n",
    "    for row in input_rows:\n",
    "        data_point = ([float(row['x1']), float(row['x2']), float(row['x3']),\n",
    "                       float(row['x4']), float(row['x5']), float(row['x6']),\n",
    "                        float(row['x7']), float(row['x8']), float(row['x9']),\n",
    "                        float(row['x10']), float(row['x11']), float(row['x12']),\n",
    "                        float(row['x13']), float(row['x14']), float(row['x15']),\n",
    "                        float(row['x16']), float(row['x17']), float(row['x18']),\n",
    "                        float(row['x19']), float(row['x20']), float(row['x21']),\n",
    "                        float(row['x22']), float(row['x23']), float(row['x24']),\n",
    "                        float(row['x25'])], float(row['y']))\n",
    "        train_data.append(data_point)\n",
    "        \n",
    "# each point in x_train has 25 values - 1 for each feature\n",
    "x_train = [x[0] for x in train_data]\n",
    "# each point in y_train has 1 value - the 'y' of the molecule\n",
    "y_train = [x[1] for x in train_data]\n",
    "\n",
    "\n",
    "test_data = list()\n",
    "with open('test_q3.csv', 'r') as infile:\n",
    "    input_rows = csv.DictReader(infile)\n",
    "    for row in input_rows:\n",
    "        data_point = ([float(row['x1']), float(row['x2']), float(row['x3']),\n",
    "                        float(row['x4']), float(row['x5']), float(row['x6']),\n",
    "                        float(row['x7']), float(row['x8']), float(row['x9']),\n",
    "                        float(row['x10']), float(row['x11']), float(row['x12']),\n",
    "                        float(row['x13']), float(row['x14']), float(row['x15']),\n",
    "                        float(row['x16']), float(row['x17']), float(row['x18']),\n",
    "                        float(row['x19']), float(row['x20']), float(row['x21']),\n",
    "                        float(row['x22']), float(row['x23']), float(row['x24']),\n",
    "                        float(row['x25'])], float(row['y']))\n",
    "        test_data.append(data_point)\n",
    "\n",
    "x_test = [x[0] for x in test_data]\n",
    "y_test = [x[1] for x in test_data]"
   ]
  },
  {
   "cell_type": "code",
   "execution_count": 3,
   "id": "6c7c82ff",
   "metadata": {},
   "outputs": [
    {
     "name": "stdout",
     "output_type": "stream",
     "text": [
      "240 240 60\n"
     ]
    }
   ],
   "source": [
    "print(len(x_train),len(y_train),len(x_test))"
   ]
  },
  {
   "cell_type": "markdown",
   "id": "square-direction",
   "metadata": {
    "id": "square-direction"
   },
   "source": [
    "### 1.3.1 Implement a Linear Regression model that minimizes the MSE **without using any libraries**. You may use NumPy to vectorize your code, but *do not use numpy.polyfit* or anything similar.\n",
    "\n",
    "1.3.1.1 Explain how you plan to implement Linear Regression in 5-10 lines.\n",
    "\n",
    "1.3.1.2 Implement Linear Regression using `x_train` and `y_train` as the train dataset.\n",
    "\n",
    "1.3.2.3 Choose the best learning rate and print the learning rate for which you achieved the best MSE.\n",
    "\n",
    "1.2.1.4 Make a [Parity Plot](https://en.wikipedia.org/wiki/Parity_plot) of your model's bandgap predictions on the test set with the actual values."
   ]
  },
  {
   "cell_type": "markdown",
   "id": "frozen-forth",
   "metadata": {
    "id": "frozen-forth"
   },
   "source": [
    "<!-- your answer to 1.3.1.1 -->\n",
    "`ANSWER 1.3.1.1`\n",
    "\n",
    "linear regression is basically fitting a line throught the data geometrically.\n",
    "to fit the line we use distance between point and try to reduce that distance so that the line is perfectly fit throught the point\n",
    "Now the problem reduces to a optimisation problem which say to minimise the distance or minimise the error.\n",
    "We run our data multiple time(epoch) to fit and find the best fit line ...\n",
    "there are parameter such as epoch\n"
   ]
  },
  {
   "cell_type": "code",
   "execution_count": 4,
   "id": "2801f0bf",
   "metadata": {},
   "outputs": [],
   "source": [
    "x_train=np.array(x_train)\n",
    "y_train=np.array(y_train)\n",
    "x_test=np.array(x_test)\n",
    "y_test=np.array(y_test)"
   ]
  },
  {
   "cell_type": "code",
   "execution_count": 5,
   "id": "angry-depression",
   "metadata": {
    "id": "angry-depression"
   },
   "outputs": [],
   "source": [
    "# 1.3.1.2\n",
    "# implement Linear Regression\n",
    "def linear_regression_fit(x_train,y_train,learning_rate=0.1,epoch=1000):\n",
    "    total=x_train.shape[0]\n",
    "    weights=np.zeros(x_train.shape[1])\n",
    "    bias=0\n",
    "    for i in range(epoch):\n",
    "        y_pred=np.dot(x_train,weights)+bias\n",
    "        error=(y_pred-y_train)\n",
    "        dw=(1/total)*np.dot(x_train.T,error)\n",
    "        db=(1/total)*np.sum(error)\n",
    "        weights=weights-learning_rate*dw\n",
    "        bias=bias-learning_rate*db\n",
    "#     print(\"dw ,db  :\",dw,\" : \",db)\n",
    "#     print(y_pred.shape)\n",
    "    return weights,bias"
   ]
  },
  {
   "cell_type": "code",
   "execution_count": 6,
   "id": "fd4fa1f7",
   "metadata": {},
   "outputs": [],
   "source": [
    "def linear_regression_predict(w,b,x_test):\n",
    "    return np.dot(x_test,w)+b"
   ]
  },
  {
   "cell_type": "markdown",
   "id": "9883d878",
   "metadata": {},
   "source": [
    "#### Just for checking the model is working or not The below parameter are not the best parameter"
   ]
  },
  {
   "cell_type": "code",
   "execution_count": 7,
   "id": "fb49605b",
   "metadata": {},
   "outputs": [],
   "source": [
    "w,b=linear_regression_fit(x_train,y_train,learning_rate=0.1,epoch=100)\n",
    "y_pred=linear_regression_predict(w,b,x_test)"
   ]
  },
  {
   "cell_type": "code",
   "execution_count": 8,
   "id": "76525844",
   "metadata": {},
   "outputs": [
    {
     "data": {
      "image/png": "[encoded data removed]",
      "text/plain": [
       "<Figure size 300x300 with 1 Axes>"
      ]
     },
     "metadata": {},
     "output_type": "display_data"
    }
   ],
   "source": [
    "fig, ax = plt.subplots(figsize=(3,3))\n",
    "\n",
    "ax.scatter(y_test, y_pred)\n",
    "\n",
    "lims = [\n",
    "    np.min([ax.get_xlim(), ax.get_ylim()]),\n",
    "    np.max([ax.get_xlim(), ax.get_ylim()]),\n",
    "]\n",
    "ax.plot(lims, lims, 'k-', alpha=0.75, zorder=0)\n",
    "ax.set_aspect('equal')\n",
    "ax.set_xlim(lims)\n",
    "ax.set_ylim(lims)\n",
    "\n",
    "ax.set_title('Parity Plot of Custom Linear Regression')\n",
    "ax.set_xlabel('Ground truth y-values')\n",
    "ax.set_ylabel('Predicted y-values')\n",
    "plt.show()"
   ]
  },
  {
   "cell_type": "code",
   "execution_count": 9,
   "id": "a9d17a61",
   "metadata": {},
   "outputs": [],
   "source": [
    "def mean_square_error(y_pred,y):\n",
    "    total=y.shape[0]\n",
    "    return np.sum((y_pred-y)**2)/total"
   ]
  },
  {
   "cell_type": "code",
   "execution_count": 10,
   "id": "385f6cd3",
   "metadata": {},
   "outputs": [],
   "source": [
    "def plot(y_pred,y_test):\n",
    "    fig, ax = plt.subplots(figsize=(3,3))\n",
    "\n",
    "    ax.scatter(y_test, y_pred)\n",
    "\n",
    "    lims = [\n",
    "        np.min([ax.get_xlim(), ax.get_ylim()]),\n",
    "        np.max([ax.get_xlim(), ax.get_ylim()]),\n",
    "    ]\n",
    "    ax.plot(lims, lims, 'k-', alpha=0.75, zorder=0)\n",
    "    ax.set_aspect('equal')\n",
    "    ax.set_xlim(lims)\n",
    "    ax.set_ylim(lims)\n",
    "\n",
    "    ax.set_title('Parity Plot of Custom Linear Regression')\n",
    "    ax.set_xlabel('Ground truth y-values')\n",
    "    ax.set_ylabel('Predicted y-values')\n",
    "    plt.show()"
   ]
  },
  {
   "cell_type": "code",
   "execution_count": 11,
   "id": "b19c0ac4",
   "metadata": {
    "id": "b19c0ac4"
   },
   "outputs": [
    {
     "name": "stdout",
     "output_type": "stream",
     "text": [
      "lr:  0.0001  ep::  10     mse:   25.866827260049114\n",
      "lr:  0.0001  ep::  100     mse:   25.77445814425949\n",
      "lr:  0.0001  ep::  1000     mse:   24.855557709744456\n",
      "lr:  0.0001  ep::  10000     mse:   16.78687379718647\n",
      "lr:  0.001  ep::  10     mse:   25.774463429485024\n",
      "lr:  0.001  ep::  100     mse:   24.855583210249527\n",
      "lr:  0.001  ep::  1000     mse:   16.786136988233288\n",
      "lr:  0.001  ep::  10000     mse:   0.6328994655560803\n",
      "lr:  0.01  ep::  10     mse:   24.855855156537164\n",
      "lr:  0.01  ep::  100     mse:   16.77876519097287\n",
      "lr:  0.01  ep::  1000     mse:   0.6315234579947879\n",
      "lr:  0.01  ep::  10000     mse:   0.08974534864763406\n",
      "lr:  0.1  ep::  10     mse:   16.704735235399053\n",
      "lr:  0.1  ep::  100     mse:   0.6178661743033532\n",
      "lr:  0.1  ep::  1000     mse:   0.08978869421914397\n",
      "lr:  0.1  ep::  10000     mse:   0.0065844205077928\n",
      "lr:  1  ep::  10     mse:   0.4911906767068253\n",
      "lr:  1  ep::  100     mse:   0.09021503554121946\n",
      "lr:  1  ep::  1000     mse:   0.006587419137744231\n",
      "lr:  1  ep::  10000     mse:   0.15546751299125694\n"
     ]
    },
    {
     "data": {
      "text/markdown": [
       "**best parameter are:**"
      ],
      "text/plain": [
       "<IPython.core.display.Markdown object>"
      ]
     },
     "metadata": {},
     "output_type": "display_data"
    },
    {
     "name": "stdout",
     "output_type": "stream",
     "text": [
      "lr:-   0.1 \n",
      "number of epochs:-   10000 \n",
      "mse for params:-    0.0065844205077928\n"
     ]
    }
   ],
   "source": [
    "# 1.3.2.3\n",
    "# try with different learning rates and choose the best one\n",
    "def best_parameter():\n",
    "    params=[]\n",
    "    list_lr=[.0001,.001,.01,.1,1]\n",
    "    list_ep=[10,100,1000,10000]\n",
    "    for lr in list_lr:\n",
    "        list_temp=[]\n",
    "        for ep in list_ep:\n",
    "            w,b=linear_regression_fit(x_train,y_train,learning_rate=lr,epoch=ep)\n",
    "            y_pred=linear_regression_predict(w,b,x_test)\n",
    "            mse=mean_square_error(y_pred,y_test)\n",
    "            print(\"lr: \",lr,\" ep:: \",ep,\"    mse:  \",mse)\n",
    "#             plot(y_pred,y_test)\n",
    "            params.append([lr,ep,mse])\n",
    "#             print(\"\\n\")\n",
    "    return params[(np.argmin(np.array(params),axis=0)[2])]\n",
    "\n",
    "lr,ep,mse=best_parameter()\n",
    "printmd(\"**best parameter are:**\")\n",
    "print(\"lr:-  \",lr,\"\\nnumber of epochs:-  \",ep,\"\\nmse for params:-   \",mse)"
   ]
  },
  {
   "cell_type": "code",
   "execution_count": 12,
   "id": "b651d6ba",
   "metadata": {},
   "outputs": [
    {
     "name": "stdout",
     "output_type": "stream",
     "text": [
      "lr:  0.0001  ep::  10     mse:   25.866827260049114\n",
      "lr:  0.0001  ep::  100     mse:   25.77445814425949\n",
      "lr:  0.0001  ep::  1000     mse:   24.855557709744456\n",
      "lr:  0.0001  ep::  10000     mse:   16.78687379718647\n",
      "lr:  0.001  ep::  10     mse:   25.774463429485024\n",
      "lr:  0.001  ep::  100     mse:   24.855583210249527\n",
      "lr:  0.001  ep::  1000     mse:   16.786136988233288\n",
      "lr:  0.001  ep::  10000     mse:   0.6328994655560803\n",
      "lr:  0.01  ep::  10     mse:   24.855855156537164\n",
      "lr:  0.01  ep::  100     mse:   16.77876519097287\n",
      "lr:  0.01  ep::  1000     mse:   0.6315234579947879\n",
      "lr:  0.01  ep::  10000     mse:   0.08974534864763406\n",
      "lr:  0.1  ep::  10     mse:   16.704735235399053\n",
      "lr:  0.1  ep::  100     mse:   0.6178661743033532\n",
      "lr:  0.1  ep::  1000     mse:   0.08978869421914397\n",
      "lr:  0.1  ep::  10000     mse:   0.0065844205077928\n",
      "lr:  1  ep::  10     mse:   0.4911906767068253\n",
      "lr:  1  ep::  100     mse:   0.09021503554121946\n",
      "lr:  1  ep::  1000     mse:   0.006587419137744231\n",
      "lr:  1  ep::  10000     mse:   0.15546751299125694\n"
     ]
    }
   ],
   "source": [
    "##for best parameter \n",
    "lr,ep,mse=best_parameter()\n",
    "w,b=linear_regression_fit(x_train,y_train,learning_rate=lr,epoch=ep)\n",
    "y_pred=linear_regression_predict(w,b,x_test)"
   ]
  },
  {
   "cell_type": "code",
   "execution_count": 13,
   "id": "be469f64",
   "metadata": {
    "scrolled": false
   },
   "outputs": [
    {
     "data": {
      "image/png": "[encoded data removed]",
      "text/plain": [
       "<Figure size 700x700 with 1 Axes>"
      ]
     },
     "metadata": {},
     "output_type": "display_data"
    }
   ],
   "source": [
    "# 1.3.1.4\n",
    "# Get the predictions of x_test into `y_pred`\n",
    "\n",
    "fig, ax = plt.subplots(figsize=(7,7))\n",
    "\n",
    "ax.scatter(y_test, y_pred)\n",
    "\n",
    "lims = [\n",
    "    np.min([ax.get_xlim(), ax.get_ylim()]),\n",
    "    np.max([ax.get_xlim(), ax.get_ylim()]),\n",
    "]\n",
    "ax.plot(lims, lims, 'k-', alpha=0.75, zorder=0)\n",
    "ax.set_aspect('equal')\n",
    "ax.set_xlim(lims)\n",
    "ax.set_ylim(lims)\n",
    "\n",
    "ax.set_title('Parity Plot of Custom Linear Regression')\n",
    "ax.set_xlabel('Ground truth y-values')\n",
    "ax.set_ylabel('Predicted y-values')\n",
    "plt.show()"
   ]
  },
  {
   "cell_type": "code",
   "execution_count": 14,
   "id": "7629460c",
   "metadata": {
    "id": "foster-center"
   },
   "outputs": [
    {
     "data": {
      "image/png": "[encoded data removed]",
      "text/plain": [
       "<Figure size 700x700 with 1 Axes>"
      ]
     },
     "metadata": {},
     "output_type": "display_data"
    }
   ],
   "source": [
    "# 1.3.1.4\n",
    "# Get the predictions of x_test into `y_pred`\n",
    "\n",
    "fig, ax = plt.subplots(figsize=(7,7))\n",
    "\n",
    "ax.scatter(y_test, y_pred)\n",
    "\n",
    "lims = [\n",
    "    np.min([ax.get_xlim(), ax.get_ylim()]),\n",
    "    np.max([ax.get_xlim(), ax.get_ylim()]),\n",
    "]\n",
    "ax.plot(lims, lims, 'k-', alpha=0.75, zorder=0)\n",
    "ax.set_aspect('equal')\n",
    "ax.set_xlim(lims)\n",
    "ax.set_ylim(lims)\n",
    "\n",
    "ax.set_title('Parity Plot of Custom Linear Regression')\n",
    "ax.set_xlabel('Ground truth y-values')\n",
    "ax.set_ylabel('Predicted y-values')\n",
    "plt.show()"
   ]
  },
  {
   "cell_type": "markdown",
   "id": "dominant-chaos",
   "metadata": {
    "id": "dominant-chaos"
   },
   "source": [
    "### 1.3.2 Implement Ridge Regression\n",
    "\n",
    "1.3.2.1 Explain Ridge regression briefly in 1-2 lines.\n",
    "\n",
    "1.3.2.2 Implement Ridge regression and make a table of different RMSE scores you achieved with different values of alpha. What does the parameter `alpha` do?\n",
    "\n",
    "1.3.2.3 How does it affect the results here? Explain in 5-10 lines in total. (You can use scikit-learn from this cell onwards)\n",
    "\n",
    "1.3.2.4 Make a Parity Plot of Ridge Regression model's y-predictions on the test set with the actual values."
   ]
  },
  {
   "cell_type": "markdown",
   "id": "happy-cyprus",
   "metadata": {
    "id": "happy-cyprus"
   },
   "source": [
    "<!-- Your answer to 1.3.2.1 -->\n",
    "`1.3.2.1 Answer`\n",
    "#### Problem with linear rigression\n",
    "\n",
    "we know for very small learning rate with higher number of epoch our linear regression is tends to fit for linear rate assuming that all assumpses are satisfyed\n",
    "\n",
    "So to overcome this problem we give some weight to learning of linear regression and some weight to our  ridge which is basically a term to increasing the overall weight of our minimising function so that it protect linear regression by overfitting the training data\n",
    "\n",
    "#### Ridge\n",
    "\n",
    "Ridge regressions a regularization technique to save our linear regression model from overfitting .\n",
    "Ridge regression take sqaure of magnitude of the weight vector as it takes square of the magnitude of the weights which result in dense matrix as the optimum can be anywhere on the contour."
   ]
  },
  {
   "cell_type": "code",
   "execution_count": 15,
   "id": "02a50a51",
   "metadata": {
    "id": "02a50a51"
   },
   "outputs": [
    {
     "name": "stdout",
     "output_type": "stream",
     "text": [
      "rmse score on y_test with alpha 0.01:   0.0052742447503083675\n"
     ]
    }
   ],
   "source": [
    "# 1.3.2.2\n",
    "# you should not have imported sklearn before this point\n",
    "import sklearn\n",
    "import pandas as pd\n",
    "from sklearn.linear_model import Ridge\n",
    "from sklearn import metrics\n",
    "from sklearn.metrics import mean_squared_error as rmse\n",
    "ridge=Ridge(alpha=0.01)\n",
    "ridge.fit(x_train,y_train)\n",
    "\n",
    "## on training dataset\n",
    "y_train_pred=ridge.predict(x_train)\n",
    "rmse_score=rmse(y_train,y_train_pred,squared=False)\n",
    "# y_test_pred=ridge.predict(x_test)\n",
    "# rmse_score=rmse(y_test,y_test_pred,squared=False)\n",
    "print(\"rmse score on y_test with alpha 0.01:  \",rmse_score)"
   ]
  },
  {
   "cell_type": "code",
   "execution_count": 16,
   "id": "e590a33f",
   "metadata": {},
   "outputs": [
    {
     "name": "stdout",
     "output_type": "stream",
     "text": [
      "[8.274571390098924e-05, 0.00036232655853068985, 0.0017263531104302534, 0.0052742447503083675, 0.019125848666549736, 0.07987415433768387, 0.4266265608667447, 1.4175613911898268, 2.247936684354301]\n"
     ]
    },
    {
     "data": {
      "text/html": [
       "<div>\n",
       "<style scoped>\n",
       "    .dataframe tbody tr th:only-of-type {\n",
       "        vertical-align: middle;\n",
       "    }\n",
       "\n",
       "    .dataframe tbody tr th {\n",
       "        vertical-align: top;\n",
       "    }\n",
       "\n",
       "    .dataframe thead th {\n",
       "        text-align: right;\n",
       "    }\n",
       "</style>\n",
       "<table border=\"1\" class=\"dataframe\">\n",
       "  <thead>\n",
       "    <tr style=\"text-align: right;\">\n",
       "      <th></th>\n",
       "      <th>0</th>\n",
       "      <th>1</th>\n",
       "    </tr>\n",
       "  </thead>\n",
       "  <tbody>\n",
       "    <tr>\n",
       "      <th>0</th>\n",
       "      <td>0.00001</td>\n",
       "      <td>0.000083</td>\n",
       "    </tr>\n",
       "    <tr>\n",
       "      <th>1</th>\n",
       "      <td>0.00010</td>\n",
       "      <td>0.000362</td>\n",
       "    </tr>\n",
       "    <tr>\n",
       "      <th>2</th>\n",
       "      <td>0.00100</td>\n",
       "      <td>0.001726</td>\n",
       "    </tr>\n",
       "    <tr>\n",
       "      <th>3</th>\n",
       "      <td>0.01000</td>\n",
       "      <td>0.005274</td>\n",
       "    </tr>\n",
       "    <tr>\n",
       "      <th>4</th>\n",
       "      <td>0.10000</td>\n",
       "      <td>0.019126</td>\n",
       "    </tr>\n",
       "    <tr>\n",
       "      <th>5</th>\n",
       "      <td>1.00000</td>\n",
       "      <td>0.079874</td>\n",
       "    </tr>\n",
       "    <tr>\n",
       "      <th>6</th>\n",
       "      <td>10.00000</td>\n",
       "      <td>0.426627</td>\n",
       "    </tr>\n",
       "    <tr>\n",
       "      <th>7</th>\n",
       "      <td>100.00000</td>\n",
       "      <td>1.417561</td>\n",
       "    </tr>\n",
       "    <tr>\n",
       "      <th>8</th>\n",
       "      <td>1000.00000</td>\n",
       "      <td>2.247937</td>\n",
       "    </tr>\n",
       "  </tbody>\n",
       "</table>\n",
       "</div>"
      ],
      "text/plain": [
       "            0         1\n",
       "0     0.00001  0.000083\n",
       "1     0.00010  0.000362\n",
       "2     0.00100  0.001726\n",
       "3     0.01000  0.005274\n",
       "4     0.10000  0.019126\n",
       "5     1.00000  0.079874\n",
       "6    10.00000  0.426627\n",
       "7   100.00000  1.417561\n",
       "8  1000.00000  2.247937"
      ]
     },
     "execution_count": 16,
     "metadata": {},
     "output_type": "execute_result"
    }
   ],
   "source": [
    "\n",
    "# implement Ridge regression and make a table where you explore the effect of different values of `alpha`\n",
    "# alphas=[0.00000001,0.0000001,0.000001,0.00001,0.0001,0.001,0.01,.1,1]\n",
    "alphas=[10e-6,10e-5,10e-4,10e-3,10e-2,10e-1,10e+0,10e+1,10e+2]\n",
    "rmse_list=[]\n",
    "for alpha in alphas:\n",
    "    ridge=Ridge(alpha=alpha)\n",
    "    ridge.fit(x_train,y_train)\n",
    "    y_train_pred=ridge.predict(x_train)\n",
    "    rmse_score=rmse(y_train,y_train_pred,squared=False)\n",
    "    rmse_list.append(rmse_score)\n",
    "print(rmse_list)\n",
    "list_f=[]\n",
    "list_f.append(alphas)\n",
    "list_f.append(rmse_list)\n",
    "table=pd.DataFrame(list_f)\n",
    "table.T"
   ]
  },
  {
   "cell_type": "markdown",
   "id": "e54d36d9",
   "metadata": {
    "id": "e54d36d9"
   },
   "source": [
    "<!-- Your answer to 1.3.2.3 -->\n",
    "`1.3.2.3 Answer`\n",
    "\n",
    "##### How does it affect the results here? Explain in 5-10 lines in total.\n",
    "Alpha or ridge parameter , it is basically the weight which we give to the regularization term ..\n",
    "let say we say alpha =1 it mean we are giving equal weight to the regularization term like linear regression .\n",
    "\n",
    "if alpha became zero our term became similiar like linear regression without regularization  as we are not doing regularization at all\n",
    "\n",
    "alpha range from 0 to infinity \n",
    "infinity means our model is purely doing regularization task and doent even fiiting linear regression\n",
    "it like doint generalisation \n",
    "at alpha =0 model has high variance and low bias\n",
    "at alpha >0 some bias is added to the model\n",
    "at alpha tends to infinity model is having higher and higher bias"
   ]
  },
  {
   "cell_type": "code",
   "execution_count": 17,
   "id": "e9d2c1e8",
   "metadata": {
    "id": "e9d2c1e8"
   },
   "outputs": [],
   "source": [
    "def ridge_plot(y_pred,y_test):\n",
    "    fig, ax = plt.subplots(figsize=(5,5))\n",
    "\n",
    "    ax.scatter(y_test, y_pred)\n",
    "\n",
    "    lims = [\n",
    "        np.min([ax.get_xlim(), ax.get_ylim()]),\n",
    "        np.max([ax.get_xlim(), ax.get_ylim()]),\n",
    "    ]\n",
    "    ax.plot(lims, lims, 'k-', alpha=0.75, zorder=0)\n",
    "    ax.set_aspect('equal')\n",
    "    ax.set_xlim(lims)\n",
    "    ax.set_ylim(lims)\n",
    "\n",
    "    ax.set_title('Parity Plot of Custom Ridge Regression')\n",
    "    ax.set_xlabel('Ground truth y-values')\n",
    "    ax.set_ylabel('Predicted y-values')\n",
    "    plt.show()"
   ]
  },
  {
   "cell_type": "code",
   "execution_count": 18,
   "id": "133bc3ef",
   "metadata": {},
   "outputs": [
    {
     "data": {
      "image/png": "[encoded data removed]",
      "text/plain": [
       "<Figure size 500x500 with 1 Axes>"
      ]
     },
     "metadata": {},
     "output_type": "display_data"
    }
   ],
   "source": [
    "# 1.3.2.4\n",
    "ridge=Ridge(alpha=10e-2)\n",
    "ridge.fit(x_train,y_train)\n",
    "y_test_pred=ridge.predict(x_test)\n",
    "ridge_plot(y_test,y_test_pred)"
   ]
  },
  {
   "cell_type": "markdown",
   "id": "popular-wonder",
   "metadata": {
    "id": "popular-wonder"
   },
   "source": [
    "### 1.3.3 Implement Lasso Regression\n",
    "1.3.3.1 Explain Lasso regression briefly in 1-2 lines.\n",
    "\n",
    "1.3.3.2 Implement Lasso regression and make a table of different RMSE scores you achieved with different values of alpha.\n",
    "\n",
    "1.3.3.3 What does the parameter `alpha` do? How does it affect the results here? Explain in 5-10 lines in total.\n",
    "\n",
    "1.3.3.4 Make a Parity Plot of Lasso Regression model's y-predictions on the test set with the actual values."
   ]
  },
  {
   "cell_type": "markdown",
   "id": "mV9BlPIjm-K1",
   "metadata": {
    "id": "mV9BlPIjm-K1"
   },
   "source": [
    "<!-- Your answer to 1.3.3.1 -->\n",
    "`1.3.3.1 Answer`\n",
    "\n",
    "#### lasso or l1 regularizer\n",
    "\n",
    "lasso regression is a regularization technique to save our linear regression model from overfitting .\n",
    "lasso regression take absoulute magnitude weight of the weight vector which is basically plot to double modulus function and at only corner we get the minimum which result in sparse matrix"
   ]
  },
  {
   "cell_type": "code",
   "execution_count": 19,
   "id": "2f035f30",
   "metadata": {},
   "outputs": [],
   "source": [
    "###  Sklearn rmse =mean square error without squared term so if squared=False mse==>>  RMSE"
   ]
  },
  {
   "cell_type": "code",
   "execution_count": 20,
   "id": "09148bbc",
   "metadata": {
    "id": "09148bbc"
   },
   "outputs": [
    {
     "name": "stdout",
     "output_type": "stream",
     "text": [
      "rmse score on y_test with alpha 0.01:   0.15012849513382498\n",
      "[0.009327821462103569, 0.03862696932475929, 0.15012849513382498, 0.26070683193344774, 2.1210574596933585, 0.04902891619354647, 0.15811890239485585, 0.4497090782925294, 2.4789777272439513]\n"
     ]
    },
    {
     "data": {
      "text/html": [
       "<div>\n",
       "<style scoped>\n",
       "    .dataframe tbody tr th:only-of-type {\n",
       "        vertical-align: middle;\n",
       "    }\n",
       "\n",
       "    .dataframe tbody tr th {\n",
       "        vertical-align: top;\n",
       "    }\n",
       "\n",
       "    .dataframe thead th {\n",
       "        text-align: right;\n",
       "    }\n",
       "</style>\n",
       "<table border=\"1\" class=\"dataframe\">\n",
       "  <thead>\n",
       "    <tr style=\"text-align: right;\">\n",
       "      <th></th>\n",
       "      <th>0</th>\n",
       "      <th>1</th>\n",
       "    </tr>\n",
       "  </thead>\n",
       "  <tbody>\n",
       "    <tr>\n",
       "      <th>0</th>\n",
       "      <td>0.0001</td>\n",
       "      <td>0.009328</td>\n",
       "    </tr>\n",
       "    <tr>\n",
       "      <th>1</th>\n",
       "      <td>0.0010</td>\n",
       "      <td>0.038627</td>\n",
       "    </tr>\n",
       "    <tr>\n",
       "      <th>2</th>\n",
       "      <td>0.0100</td>\n",
       "      <td>0.150128</td>\n",
       "    </tr>\n",
       "    <tr>\n",
       "      <th>3</th>\n",
       "      <td>0.1000</td>\n",
       "      <td>0.260707</td>\n",
       "    </tr>\n",
       "    <tr>\n",
       "      <th>4</th>\n",
       "      <td>1.0000</td>\n",
       "      <td>2.121057</td>\n",
       "    </tr>\n",
       "    <tr>\n",
       "      <th>5</th>\n",
       "      <td>0.0020</td>\n",
       "      <td>0.049029</td>\n",
       "    </tr>\n",
       "    <tr>\n",
       "      <th>6</th>\n",
       "      <td>0.0200</td>\n",
       "      <td>0.158119</td>\n",
       "    </tr>\n",
       "    <tr>\n",
       "      <th>7</th>\n",
       "      <td>0.2000</td>\n",
       "      <td>0.449709</td>\n",
       "    </tr>\n",
       "    <tr>\n",
       "      <th>8</th>\n",
       "      <td>2.0000</td>\n",
       "      <td>2.478978</td>\n",
       "    </tr>\n",
       "  </tbody>\n",
       "</table>\n",
       "</div>"
      ],
      "text/plain": [
       "        0         1\n",
       "0  0.0001  0.009328\n",
       "1  0.0010  0.038627\n",
       "2  0.0100  0.150128\n",
       "3  0.1000  0.260707\n",
       "4  1.0000  2.121057\n",
       "5  0.0020  0.049029\n",
       "6  0.0200  0.158119\n",
       "7  0.2000  0.449709\n",
       "8  2.0000  2.478978"
      ]
     },
     "execution_count": 20,
     "metadata": {},
     "output_type": "execute_result"
    }
   ],
   "source": [
    "# 1.3.3.2\n",
    "# implement Lasso regression and make a table where you explore the effect of different values of `alpha`\n",
    "\n",
    "from sklearn.linear_model import Lasso\n",
    "from sklearn import metrics\n",
    "from sklearn.metrics import mean_squared_error as rmse\n",
    "lasso=Lasso(alpha=0.01)\n",
    "lasso.fit(x_train,y_train)\n",
    "\n",
    "## on training dataset\n",
    "y_train_pred=lasso.predict(x_train)\n",
    "rmse_score=rmse(y_train,y_train_pred,squared=False)\n",
    "# y_test_pred=ridge.predict(x_test)\n",
    "# rmse_score=rmse(y_test,y_test_pred,squared=False)\n",
    "print(\"rmse score on y_test with alpha 0.01:  \",rmse_score)\n",
    "\n",
    "\n",
    "# implement Lasso regression and make a table where you explore the effect of different values of `alpha`\n",
    "alphas=[0.0001,0.001,0.01,.1,1,0.002,0.02,0.2,2]\n",
    "rmse_list=[]\n",
    "for alpha in alphas:\n",
    "    lasso=Lasso(alpha=alpha)\n",
    "    lasso.fit(x_train,y_train)\n",
    "    y_train_pred=lasso.predict(x_train)\n",
    "    rmse_score=rmse(y_train,y_train_pred,squared=False)\n",
    "    rmse_list.append(rmse_score)\n",
    "print(rmse_list)\n",
    "list_f=[]\n",
    "list_f.append(alphas)\n",
    "list_f.append(rmse_list)\n",
    "table=pd.DataFrame(list_f)\n",
    "table.T"
   ]
  },
  {
   "cell_type": "code",
   "execution_count": 21,
   "id": "f4df8f04",
   "metadata": {},
   "outputs": [],
   "source": [
    "def lasso_plot(y_pred,y_test):\n",
    "    fig, ax = plt.subplots(figsize=(5,5))\n",
    "\n",
    "    ax.scatter(y_test, y_pred)\n",
    "\n",
    "    lims = [\n",
    "        np.min([ax.get_xlim(), ax.get_ylim()]),\n",
    "        np.max([ax.get_xlim(), ax.get_ylim()]),\n",
    "    ]\n",
    "    ax.plot(lims, lims, 'k-', alpha=0.75, zorder=0)\n",
    "    ax.set_aspect('equal')\n",
    "    ax.set_xlim(lims)\n",
    "    ax.set_ylim(lims)\n",
    "\n",
    "    ax.set_title('Parity Plot of Custom Ridge Regression')\n",
    "    ax.set_xlabel('Ground truth y-values')\n",
    "    ax.set_ylabel('Predicted y-values')\n",
    "    plt.show()"
   ]
  },
  {
   "cell_type": "markdown",
   "id": "Hq5eyeqem-K2",
   "metadata": {
    "id": "Hq5eyeqem-K2"
   },
   "source": [
    "<!-- Your answer to 1.3.3.3 -->\n",
    "`1.3.3.3 Answer`\n",
    "\n",
    "\n",
    "Alpha or lasso parameter , it is basically the weight which we give to the regularization term ..\n",
    "let say we say alpha =1 it mean we are giving equal weight to the regularization term like linear regression .\n",
    "\n",
    "if alpha became zero our term became similiar like linear regression without regularization  as we are not doing regularization at all\n",
    "\n",
    "alpha range from 0 to infinity \n",
    "infinity means our model is purely doing regularization task and doent even fiiting linear regression\n",
    "it like doint generalisation \n",
    "at alpha =0 model has high variance and low bias\n",
    "at alpha >0 some bias is added to the model\n",
    "at alpha tends to infinity model is having higher and higher bias"
   ]
  },
  {
   "cell_type": "code",
   "execution_count": 22,
   "id": "accompanied-worst",
   "metadata": {
    "id": "accompanied-worst"
   },
   "outputs": [
    {
     "data": {
      "image/png": "[encoded data removed]",
      "text/plain": [
       "<Figure size 500x500 with 1 Axes>"
      ]
     },
     "metadata": {},
     "output_type": "display_data"
    }
   ],
   "source": [
    "# 1.3.3.4\n",
    "lasso=Lasso(alpha=0.01)\n",
    "lasso.fit(x_train,y_train)\n",
    "y_test_pred=lasso.predict(x_test)\n",
    "lasso_plot(y_test,y_test_pred)"
   ]
  },
  {
   "cell_type": "markdown",
   "id": "840345f1",
   "metadata": {},
   "source": [
    "### Important\n",
    "\n",
    "##### we may get better and better training score and mse using lower and lower alpha but it is not what we want we dont want our train mse to be lower rather we want our unseen data or test data mse to be lower \n",
    "##### so we should choose appropriate alpha such that model doesnt overfit and doesnt add high bias  as we want a balance between bias and variance of the data"
   ]
  }
 ],
 "metadata": {
  "colab": {
   "provenance": []
  },
  "kernelspec": {
   "display_name": "Python 3 (ipykernel)",
   "language": "python",
   "name": "python3"
  },
  "language_info": {
   "codemirror_mode": {
    "name": "ipython",
    "version": 3
   },
   "file_extension": ".py",
   "mimetype": "text/x-python",
   "name": "python",
   "nbconvert_exporter": "python",
   "pygments_lexer": "ipython3",
   "version": "3.11.4"
  }
 },
 "nbformat": 4,
 "nbformat_minor": 5
}
